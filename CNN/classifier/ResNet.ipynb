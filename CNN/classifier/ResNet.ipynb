{
 "cells": [
  {
   "cell_type": "markdown",
   "id": "bf16917f",
   "metadata": {},
   "source": [
    "## ResNet 모델 파이토치 구현\n",
    "### layer가 깊어짐에 따라 기울기 소실 문제가 생겨 layer가 깊어 질 수록 오차가 더 커짐\n",
    "### 그에 따라 잔차연결을 활용해 기울기 소실 문제를 해결 - > 자세한 내용은 논문\n",
    "### 논문 링크: https://arxiv.org/abs/1512.03385"
   ]
  },
  {
   "cell_type": "markdown",
   "id": "ea459861",
   "metadata": {},
   "source": [
    "## 데이터셋 다운로드 훈련용 50만장, 검증용 10만장"
   ]
  },
  {
   "cell_type": "code",
   "execution_count": 1,
   "id": "6d94099a",
   "metadata": {},
   "outputs": [
    {
     "name": "stdout",
     "output_type": "stream",
     "text": [
      "Requirement already satisfied: natsort in c:\\code\\python\\pytorch\\venv\\lib\\site-packages (8.4.0)\n",
      "Requirement already satisfied: opencv-python in c:\\code\\python\\pytorch\\venv\\lib\\site-packages (4.10.0.84)\n",
      "Requirement already satisfied: tqdm in c:\\code\\python\\pytorch\\venv\\lib\\site-packages (4.66.5)\n",
      "Requirement already satisfied: numpy>=1.21.2 in c:\\code\\python\\pytorch\\venv\\lib\\site-packages (from opencv-python) (1.26.3)\n",
      "Requirement already satisfied: colorama in c:\\code\\python\\pytorch\\venv\\lib\\site-packages (from tqdm) (0.4.6)\n"
     ]
    },
    {
     "name": "stderr",
     "output_type": "stream",
     "text": [
      "\n",
      "[notice] A new release of pip is available: 23.2.1 -> 24.2\n",
      "[notice] To update, run: python.exe -m pip install --upgrade pip\n"
     ]
    }
   ],
   "source": [
    "!pip install natsort opencv-python tqdm"
   ]
  },
  {
   "cell_type": "code",
   "execution_count": 2,
   "id": "4dcdc139",
   "metadata": {},
   "outputs": [],
   "source": [
    "import os\n",
    "import shutil\n",
    "import torchvision\n",
    "from torch.utils.data import Dataset, DataLoader\n",
    "import torch.nn as nn\n",
    "import torch\n",
    "import cv2\n",
    "import torchvision.transforms as T\n",
    "import natsort\n",
    "from tqdm import tqdm\n"
   ]
  },
  {
   "cell_type": "code",
   "execution_count": 3,
   "id": "9a381286",
   "metadata": {},
   "outputs": [],
   "source": [
    "# 대규모의 데이터로 학습 하고 싶으면 주석해제\n",
    "\n",
    "# torchvision.datasets.INaturalist(root='./data',version='2021_train_mini', download=True)\n",
    "# torchvision.datasets.INaturalist(root='./data',version='2021_valid', download=True)"
   ]
  },
  {
   "cell_type": "markdown",
   "id": "9e0ac61b",
   "metadata": {},
   "source": [
    "## 데이터의 클래스 수가 10000개여서 300개에 대해서만 학습\n"
   ]
  },
  {
   "cell_type": "code",
   "execution_count": 4,
   "id": "bc38d57a",
   "metadata": {},
   "outputs": [],
   "source": [
    "class INaturalist_Dataset(Dataset):\n",
    "    def __init__(self, train='train', transforms=None):\n",
    "        self.root_path = 'data/2021_train_mini' if train=='train' else 'data/2021_valid'\n",
    "      \n",
    "        self.class_names = [class_name for class_name in natsort.natsorted(os.listdir(self.root_path))][:300] \n",
    "        self.data_path = []\n",
    "        for class_idx, class_name in enumerate(self.class_names):\n",
    "            for file in os.listdir(os.path.join(self.root_path, class_name)):\n",
    "                self.data_path.append({'file_path':os.path.join(self.root_path, class_name, file), 'class_idx':class_idx})\n",
    "        self.transforms = transforms\n",
    "    def __len__(self):\n",
    "        return len(self.data_path)\n",
    "    def __getitem__(self, idx):\n",
    "        file_path = self.data_path[idx]['file_path']\n",
    "        class_idx =  self.data_path[idx]['class_idx']\n",
    "        img = cv2.imread(file_path)\n",
    "        img = cv2.cvtColor(img, cv2.COLOR_BGR2RGB)\n",
    "        if self.transforms is not None:\n",
    "            img = self.transforms(img)\n",
    "        return img, class_idx"
   ]
  },
  {
   "cell_type": "markdown",
   "id": "13565ad0",
   "metadata": {},
   "source": [
    "## 데이터증강 "
   ]
  },
  {
   "cell_type": "code",
   "execution_count": 5,
   "id": "8d8c1e38",
   "metadata": {},
   "outputs": [],
   "source": [
    "normalize = T.Normalize(mean=[0.485, 0.456, 0.406],\n",
    "                                     std=[0.229, 0.224, 0.225])\n",
    "train_transform = T.Compose([\n",
    "    #T.ToPILImage(),\n",
    "    T.ToTensor(),\n",
    "    T.Resize((224, 224)),\n",
    "    T.RandomHorizontalFlip(),\n",
    "    normalize\n",
    "])\n",
    "\n",
    "val_transform = T.Compose([\n",
    "    #T.ToPILImage(),\n",
    "    T.ToTensor(),\n",
    "    T.Resize((224, 224)),\n",
    "   \n",
    "    normalize\n",
    "])"
   ]
  },
  {
   "cell_type": "code",
   "execution_count": 6,
   "id": "0abc4d80",
   "metadata": {},
   "outputs": [],
   "source": [
    "batch_size = 16\n",
    "# 대규모 데이터 학습 하고 싶으면 해제\n",
    "# trainset = INaturalist_Dataset('train', train_transform)\n",
    "# testset = INaturalist_Dataset('val', val_transform)\n",
    "# trainloader = torch.utils.data.DataLoader(trainset, batch_size=batch_size,\n",
    "#                                           shuffle=True, num_workers=0)\n",
    "\n",
    "\n",
    "# testloader = torch.utils.data.DataLoader(testset, batch_size=batch_size,\n",
    "#                                          shuffle=False, num_workers=0)"
   ]
  },
  {
   "cell_type": "code",
   "execution_count": 7,
   "id": "237b986d",
   "metadata": {},
   "outputs": [
    {
     "name": "stdout",
     "output_type": "stream",
     "text": [
      "Files already downloaded and verified\n",
      "Files already downloaded and verified\n"
     ]
    }
   ],
   "source": [
    "trainset = torchvision.datasets.STL10('./data', split='train', download=True, transform=train_transform)\n",
    "testset = torchvision.datasets.STL10('./data', split='test', download=True, transform=val_transform)\n",
    "trainloader = torch.utils.data.DataLoader(trainset, batch_size=batch_size,\n",
    "                                          shuffle=True, num_workers=0)\n",
    "\n",
    "\n",
    "testloader = torch.utils.data.DataLoader(testset, batch_size=batch_size,\n",
    "                                         shuffle=False, num_workers=0)"
   ]
  },
  {
   "cell_type": "code",
   "execution_count": 8,
   "id": "58b227d2",
   "metadata": {},
   "outputs": [
    {
     "name": "stderr",
     "output_type": "stream",
     "text": [
      "C:\\Users\\user\\AppData\\Roaming\\Python\\Python311\\site-packages\\torchvision\\transforms\\functional.py:1603: UserWarning: The default value of the antialias parameter of all the resizing transforms (Resize(), RandomResizedCrop(), etc.) will change from None to True in v0.17, in order to be consistent across the PIL and Tensor backends. To suppress this warning, directly pass antialias=True (recommended, future default), antialias=None (current default, which means False for Tensors and True for PIL), or antialias=False (only works on Tensors - PIL will still use antialiasing). This also applies if you are using the inference transforms from the models weights: update the call to weights.transforms(antialias=True).\n",
      "  warnings.warn(\n",
      "Clipping input data to the valid range for imshow with RGB data ([0..1] for floats or [0..255] for integers).\n"
     ]
    },
    {
     "data": {
      "image/png": "[encoded data removed]",
      "text/plain": [
       "<Figure size 640x480 with 1 Axes>"
      ]
     },
     "metadata": {},
     "output_type": "display_data"
    },
    {
     "name": "stdout",
     "output_type": "stream",
     "text": [
      "Atypoides_riversi Araneus_bicentenarius Lumbricus_terrestris Aculepeira_ceropegia Atypoides_riversi Serpula_columbiana Sabella_spallanzanii Araneus_bicentenarius Serpula_columbiana Sabella_spallanzanii Spirobranchus_cariniferus Atypoides_riversi Agalenatea_redii Lumbricus_terrestris Eratigena_duellica Lumbricus_terrestris\n"
     ]
    }
   ],
   "source": [
    "import matplotlib.pyplot as plt\n",
    "import numpy as np\n",
    "\n",
    "# 이미지를 보여주기 위한 함수\n",
    "classes = [class_name.split('_')[-2]+'_'+class_name.split('_')[-1] \n",
    "           for class_name in natsort.natsorted(os.listdir('data/2021_train_mini'))[:300]]\n",
    "\n",
    "def imshow(img):\n",
    "    img = img / 2 + 0.5     # unnormalize\n",
    "    npimg = img.numpy()\n",
    "    plt.imshow(np.transpose(npimg, (1, 2, 0)))\n",
    "    plt.show()\n",
    "\n",
    "\n",
    "# 학습용 이미지를 무작위로 가져오기\n",
    "dataiter = iter(trainloader)\n",
    "images, labels = next(dataiter)\n",
    "\n",
    "# 이미지 보여주기\n",
    "imshow(torchvision.utils.make_grid(images))\n",
    "# 정답(label) 출력\n",
    "print(' '.join(f'{classes[labels[j]]:5s}' for j in range(batch_size)))"
   ]
  },
  {
   "cell_type": "markdown",
   "id": "d3af2eaa",
   "metadata": {},
   "source": [
    "## ResNet 구현\n",
    "### ResNet은 layer의 깊에 따라 활용하는 Block들이 다름\n"
   ]
  },
  {
   "cell_type": "code",
   "execution_count": 9,
   "id": "97f2611d",
   "metadata": {},
   "outputs": [],
   "source": [
    "def conv3x3(in_planes, out_planes, stride=1, groups=1, dilation=1):\n",
    "    r\"\"\"\n",
    "    3x3 convolution with padding\n",
    "    - in_planes: in_channels\n",
    "    - out_channels: out_channels\n",
    "    - bias=False: BatchNorm에 bias가 포함되어 있으므로, conv2d는 bias=False로 설정.\n",
    "    \"\"\"\n",
    "    return nn.Conv2d(in_planes, out_planes, kernel_size=3, stride=stride,\n",
    "                     padding=dilation, groups=groups, bias=False, dilation=dilation)\n",
    "\n",
    "def conv1x1(in_planes, out_planes, stride=1):\n",
    "    \"\"\"1x1 convolution\"\"\"\n",
    "    return nn.Conv2d(in_planes, out_planes, kernel_size=1, stride=stride, bias=False)"
   ]
  },
  {
   "cell_type": "markdown",
   "id": "df2a57c5",
   "metadata": {},
   "source": [
    "## Basic Block"
   ]
  },
  {
   "cell_type": "code",
   "execution_count": 10,
   "id": "8ae2b5a3",
   "metadata": {},
   "outputs": [],
   "source": [
    "class BasicBlock(nn.Module):\n",
    "    expansion = 1\n",
    "\n",
    "    def __init__(self, inplanes, planes, stride=1, downsample=None, groups=1,\n",
    "                 base_width=64, dilation=1, norm_layer=None):\n",
    "        r\"\"\"\n",
    "         - inplanes: input channel size\n",
    "         - planes: output channel size\n",
    "         - groups, base_width: ResNext나 Wide ResNet의 경우 사용\n",
    "        \"\"\"\n",
    "        super(BasicBlock, self).__init__()\n",
    "        if norm_layer is None:\n",
    "            norm_layer = nn.BatchNorm2d\n",
    "        if groups != 1 or base_width != 64:\n",
    "            raise ValueError('BasicBlock only supports groups=1 and base_width=64')\n",
    "        if dilation > 1:\n",
    "            raise NotImplementedError(\"Dilation > 1 not supported in BasicBlock\")\n",
    "            \n",
    "        # Basic Block의 구조\n",
    "        self.conv1 = conv3x3(inplanes, planes, stride)  # conv1에서 downsample\n",
    "        self.bn1 = norm_layer(planes)\n",
    "        self.relu = nn.ReLU(inplace=True)\n",
    "        self.conv2 = conv3x3(planes, planes)\n",
    "        self.bn2 = norm_layer(planes)\n",
    "        self.downsample = downsample\n",
    "        self.stride = stride\n",
    "\n",
    "    def forward(self, x):\n",
    "        identity = x\n",
    "\n",
    "        out = self.conv1(x)\n",
    "        out = self.bn1(out)\n",
    "        out = self.relu(out)\n",
    "\n",
    "        out = self.conv2(out)\n",
    "        out = self.bn2(out)\n",
    "        \n",
    "        # short connection\n",
    "        if self.downsample is not None:\n",
    "            identity = self.downsample(x)\n",
    "            \n",
    "        # identity mapping시 identity mapping후 ReLU를 적용합니다.\n",
    "        # 그 이유는, ReLU를 통과하면 양의 값만 남기 때문에 Residual의 의미가 제대로 유지되지 않기 때문입니다.\n",
    "        out += identity\n",
    "        out = self.relu(out)\n",
    "\n",
    "        return out"
   ]
  },
  {
   "cell_type": "markdown",
   "id": "d74e1e76",
   "metadata": {},
   "source": [
    "## Bottleneck"
   ]
  },
  {
   "cell_type": "code",
   "execution_count": 11,
   "id": "a752ee4c",
   "metadata": {},
   "outputs": [],
   "source": [
    "class Bottleneck(nn.Module):\n",
    "    # Bottleneck in torchvision places the stride for downsampling at 3x3 convolution(self.conv2)\n",
    "    # while original implementation places the stride at the first 1x1 convolution(self.conv1)\n",
    "    # according to \"Deep residual learning for image recognition\"https://arxiv.org/abs/1512.03385.\n",
    "    # This variant is also known as ResNet V1.5 and improves accuracy according to\n",
    "    # https://ngc.nvidia.com/catalog/model-scripts/nvidia:resnet_50_v1_5_for_pytorch.\n",
    "\n",
    "    expansion = 4 # 블록 내에서 차원을 증가시키는 3번째 conv layer에서의 확장계수\n",
    "    \n",
    "    def __init__(self, inplanes, planes, stride=1, downsample=None, groups=1,\n",
    "                 base_width=64, dilation=1, norm_layer=None):\n",
    "        super(Bottleneck, self).__init__()\n",
    "        if norm_layer is None:\n",
    "            norm_layer = nn.BatchNorm2d\n",
    "        # ResNext나 WideResNet의 경우 사용\n",
    "        width = int(planes * (base_width / 64.)) * groups\n",
    "        \n",
    "        # Bottleneck Block의 구조\n",
    "        self.conv1 = conv1x1(inplanes, width)\n",
    "        self.bn1 = norm_layer(width)\n",
    "        self.conv2 = conv3x3(width, width, stride, groups, dilation) # conv2에서 downsample\n",
    "        self.bn2 = norm_layer(width)\n",
    "        self.conv3 = conv1x1(width, planes * self.expansion)\n",
    "        self.bn3 = norm_layer(planes * self.expansion)\n",
    "        self.relu = nn.ReLU(inplace=True)\n",
    "        self.downsample = downsample\n",
    "        self.stride = stride\n",
    "\n",
    "    def forward(self, x):\n",
    "        identity = x\n",
    "        # 1x1 convolution layer\n",
    "        out = self.conv1(x)\n",
    "        out = self.bn1(out)\n",
    "        out = self.relu(out)\n",
    "        # 3x3 convolution layer\n",
    "        out = self.conv2(out)\n",
    "        out = self.bn2(out)\n",
    "        out = self.relu(out)\n",
    "        # 1x1 convolution layer\n",
    "        out = self.conv3(out)\n",
    "        out = self.bn3(out)\n",
    "        # skip connection\n",
    "        if self.downsample is not None:\n",
    "            identity = self.downsample(x)\n",
    "\n",
    "        out += identity\n",
    "        out = self.relu(out)\n",
    "\n",
    "        return out"
   ]
  },
  {
   "cell_type": "code",
   "execution_count": 12,
   "id": "d2945152",
   "metadata": {},
   "outputs": [],
   "source": [
    "class ResNet(nn.Module):\n",
    "\n",
    "    def __init__(self, block, layers, num_classes=1000, zero_init_residual=False,\n",
    "                 groups=1, width_per_group=64, replace_stride_with_dilation=None,\n",
    "                 norm_layer=None):\n",
    "        super(ResNet, self).__init__()\n",
    "        if norm_layer is None:\n",
    "            norm_layer = nn.BatchNorm2d\n",
    "        self._norm_layer = norm_layer\n",
    "        # default values\n",
    "        self.inplanes = 64 # input feature map\n",
    "        self.dilation = 1\n",
    "        # stride를 dilation으로 대체할지 선택\n",
    "        if replace_stride_with_dilation is None:\n",
    "            # each element in the tuple indicates if we should replace\n",
    "            # the 2x2 stride with a dilated convolution instead\n",
    "            replace_stride_with_dilation = [False, False, False]\n",
    "        if len(replace_stride_with_dilation) != 3:\n",
    "            raise ValueError(\"replace_stride_with_dilation should be None \"\n",
    "                             \"or a 3-element tuple, got {}\".format(replace_stride_with_dilation))\n",
    "        self.groups = groups\n",
    "        self.base_width = width_per_group\n",
    "        \n",
    "        r\"\"\"\n",
    "        - 처음 입력에 적용되는 self.conv1과 self.bn1, self.relu는 모든 ResNet에서 동일 \n",
    "        - 3: 입력으로 RGB 이미지를 사용하기 때문에 convolution layer에 들어오는 input의 channel 수는 3\n",
    "        \"\"\"\n",
    "        self.conv1 = nn.Conv2d(3, self.inplanes, kernel_size=7, stride=2, padding=3, bias=False)\n",
    "        self.bn1 = norm_layer(self.inplanes)\n",
    "        self.relu = nn.ReLU(inplace=True)\n",
    "        self.maxpool = nn.MaxPool2d(kernel_size=3, stride=2, padding=1)\n",
    "        \n",
    "        r\"\"\"\n",
    "        - 아래부터 block 형태와 갯수가 ResNet층마다 변화\n",
    "        - self.layer1 ~ 4: 필터의 개수는 각 block들을 거치면서 증가(64->128->256->512)\n",
    "        - self.avgpool: 모든 block을 거친 후에는 Adaptive AvgPool2d를 적용하여 (n, 512, 1, 1)의 텐서로\n",
    "        - self.fc: 이후 fc layer를 연결\n",
    "        \"\"\"\n",
    "        self.layer1 = self._make_layer(block, 64, layers[0])\n",
    "        self.layer2 = self._make_layer(block, 128, layers[1], stride=2, # 여기서부터 downsampling적용\n",
    "                                       dilate=replace_stride_with_dilation[0])\n",
    "        self.layer3 = self._make_layer(block, 256, layers[2], stride=2,\n",
    "                                       dilate=replace_stride_with_dilation[1])\n",
    "        self.layer4 = self._make_layer(block, 512, layers[3], stride=2,\n",
    "                                       dilate=replace_stride_with_dilation[2])\n",
    "        self.avgpool = nn.AdaptiveAvgPool2d((1, 1))\n",
    "        self.fc = nn.Linear(512 * block.expansion, num_classes)\n",
    "\n",
    "        for m in self.modules():\n",
    "            if isinstance(m, nn.Conv2d):\n",
    "                nn.init.kaiming_normal_(m.weight, mode='fan_out', nonlinearity='relu')\n",
    "            elif isinstance(m, (nn.BatchNorm2d, nn.GroupNorm)):\n",
    "                nn.init.constant_(m.weight, 1)\n",
    "                nn.init.constant_(m.bias, 0)\n",
    "\n",
    "        # Zero-initialize the last BN in each residual branch,\n",
    "        # so that the residual branch starts with zeros, and each residual block behaves like an identity.\n",
    "        # This improves the model by 0.2~0.3% according to https://arxiv.org/abs/1706.02677\n",
    "        if zero_init_residual:\n",
    "            for m in self.modules():\n",
    "                if isinstance(m, Bottleneck):\n",
    "                    nn.init.constant_(m.bn3.weight, 0)\n",
    "                elif isinstance(m, BasicBlock):\n",
    "                    nn.init.constant_(m.bn2.weight, 0)\n",
    "\n",
    "    def _make_layer(self, block, planes, blocks, stride=1, dilate=False):\n",
    "        r\"\"\"\n",
    "        convolution layer 생성 함수\n",
    "        - block: block종류 지정\n",
    "        - planes: feature map size (input shape)\n",
    "        - blocks: layers[0]와 같이, 해당 블록이 몇개 생성돼야하는지, 블록의 갯수 (layer 반복해서 쌓는 개수)\n",
    "        - stride와 dilate은 고정\n",
    "        \"\"\"\n",
    "        norm_layer = self._norm_layer\n",
    "        downsample = None\n",
    "        previous_dilation = self.dilation\n",
    "        if dilate:\n",
    "            self.dilation *= stride\n",
    "            stride = 1\n",
    "        \n",
    "        # the number of filters is doubled: self.inplanes와 planes 사이즈를 맞춰주기 위한 projection shortcut\n",
    "        # the feature map size is halved: stride=2로 downsampling\n",
    "        if stride != 1 or self.inplanes != planes * block.expansion:\n",
    "            downsample = nn.Sequential(\n",
    "                conv1x1(self.inplanes, planes * block.expansion, stride),\n",
    "                norm_layer(planes * block.expansion),\n",
    "            )\n",
    "\n",
    "        layers = []\n",
    "        # 블록 내 시작 layer, downsampling 필요\n",
    "        layers.append(block(self.inplanes, planes, stride, downsample, self.groups,\n",
    "                            self.base_width, previous_dilation, norm_layer))\n",
    "        self.inplanes = planes * block.expansion # inplanes 업데이트\n",
    "        # 동일 블록 반복\n",
    "        for _ in range(1, blocks):\n",
    "            layers.append(block(self.inplanes, planes, groups=self.groups,\n",
    "                                base_width=self.base_width, dilation=self.dilation,\n",
    "                                norm_layer=norm_layer))\n",
    "\n",
    "        return nn.Sequential(*layers)\n",
    "\n",
    "    def _forward_impl(self, x):\n",
    "        # See note [TorchScript super()]\n",
    "        x = self.conv1(x)\n",
    "        x = self.bn1(x)\n",
    "        x = self.relu(x)\n",
    "        x = self.maxpool(x)\n",
    "\n",
    "        x = self.layer1(x)\n",
    "        x = self.layer2(x)\n",
    "        x = self.layer3(x)\n",
    "        x = self.layer4(x)\n",
    "\n",
    "        x = self.avgpool(x)\n",
    "        x = torch.flatten(x, 1)\n",
    "        x = self.fc(x)\n",
    "\n",
    "        return x\n",
    "\n",
    "    def forward(self, x):\n",
    "        return self._forward_impl(x)"
   ]
  },
  {
   "cell_type": "code",
   "execution_count": 13,
   "id": "37d6712d",
   "metadata": {},
   "outputs": [],
   "source": [
    "resnet18 = ResNet(BasicBlock, [2, 2, 2, 2], 10)\n",
    "resnet34 = ResNet(BasicBlock, [3, 4, 6, 3], 10)\n",
    "resnet50 = ResNet(Bottleneck, [3, 4, 6, 3], 10)\n",
    "resnet101 = ResNet(Bottleneck, [3, 4, 23, 3], 10)\n",
    "resnet152 = ResNet(Bottleneck, [3, 8, 36, 3], 10)"
   ]
  },
  {
   "cell_type": "code",
   "execution_count": null,
   "id": "ebae0f25",
   "metadata": {},
   "outputs": [],
   "source": []
  },
  {
   "cell_type": "markdown",
   "id": "f1f9b411",
   "metadata": {},
   "source": [
    "## 모델 학습"
   ]
  },
  {
   "cell_type": "code",
   "execution_count": 14,
   "id": "24fa1427",
   "metadata": {},
   "outputs": [],
   "source": [
    "def save_checkpoint(state, is_best, filename='checkpoint.pth.tar'):\n",
    "    torch.save(state, filename)\n",
    "    if is_best:\n",
    "        shutil.copyfile(filename, 'model_best.pth.tar')"
   ]
  },
  {
   "cell_type": "code",
   "execution_count": 15,
   "id": "fb233de6",
   "metadata": {},
   "outputs": [],
   "source": [
    "device = 'cuda' if torch.cuda.is_available() else 'cpu'\n",
    "model = ResNet(BasicBlock, [2, 2, 2, 2], 10).to(device)\n",
    "optimizer = torch.optim.SGD(model.parameters(), lr=0.01, momentum=0.9, weight_decay=1e-4)\n",
    "criterion = nn.CrossEntropyLoss()\n",
    "epochs = 30\n",
    "scheduler = torch.optim.lr_scheduler.StepLR(optimizer, step_size=10, gamma=0.1)"
   ]
  },
  {
   "cell_type": "code",
   "execution_count": null,
   "id": "f702f0db",
   "metadata": {},
   "outputs": [],
   "source": []
  },
  {
   "cell_type": "code",
   "execution_count": 16,
   "id": "78327cba",
   "metadata": {},
   "outputs": [],
   "source": [
    "def train(loader, model,optimizer, criterion):\n",
    "    running_loss = 0.0\n",
    "    \n",
    "    correct = 0\n",
    "    total = 0\n",
    "\n",
    "    model.train()\n",
    "    for i, data in enumerate(tqdm(loader), 0):\n",
    "        # get the inputs; data is a list of [inputs, labels]\n",
    "        inputs, labels = data\n",
    "        inputs, labels = inputs.to(device), labels.to(device)\n",
    "        \n",
    "        # zero the parameter gradients\n",
    "        optimizer.zero_grad()\n",
    "\n",
    "        # forward + backward + optimize\n",
    "        outputs = model(inputs)\n",
    "        \n",
    "        loss = criterion(outputs, labels)\n",
    "       \n",
    "        _, predicted = outputs.max(1)\n",
    "        total += labels.size(0)\n",
    "        correct += predicted.eq(labels).sum().item()\n",
    "        \n",
    "        \n",
    "        loss.backward()\n",
    "        optimizer.step()\n",
    "        \n",
    "        \n",
    "        # print statistics\n",
    "        running_loss += loss.item()\n",
    "    epoch_loss = running_loss /len(loader)\n",
    "    epoch_acc = correct / total\n",
    "    \n",
    "    return epoch_loss, epoch_acc"
   ]
  },
  {
   "cell_type": "code",
   "execution_count": 17,
   "id": "a428c5d8",
   "metadata": {},
   "outputs": [],
   "source": [
    "def validation(loader, model, optimizer, criterion):\n",
    "    running_loss = 0.0\n",
    "    \n",
    "    correct = 0\n",
    "    total = 0\n",
    "\n",
    "    model.eval()\n",
    "    with torch.no_grad():\n",
    "        for i, data in enumerate(tqdm(loader), 0):\n",
    "            # get the inputs; data is a list of [inputs, labels]\n",
    "            inputs, labels = data\n",
    "            inputs, labels = inputs.to(device), labels.to(device)\n",
    "\n",
    "            # zero the parameter gradients\n",
    "            optimizer.zero_grad()\n",
    "\n",
    "            # forward + backward + optimize\n",
    "            outputs = model(inputs)\n",
    "\n",
    "            loss = criterion(outputs, labels)\n",
    "            _, predicted = outputs.max(1)\n",
    "            total += labels.size(0)\n",
    "            correct += predicted.eq(labels).sum().item()\n",
    "\n",
    "\n",
    "\n",
    "            # print statistics\n",
    "            running_loss += loss.item()\n",
    "    epoch_loss = running_loss /len(loader)\n",
    "    epoch_acc = correct / total\n",
    "    \n",
    "    return epoch_loss, epoch_acc"
   ]
  },
  {
   "cell_type": "code",
   "execution_count": 18,
   "id": "825ac457",
   "metadata": {},
   "outputs": [
    {
     "name": "stderr",
     "output_type": "stream",
     "text": [
      "100%|████████████████████████████████████████████████████████████████████████████████| 313/313 [00:08<00:00, 37.07it/s]\n",
      "100%|████████████████████████████████████████████████████████████████████████████████| 500/500 [00:06<00:00, 76.40it/s]\n"
     ]
    },
    {
     "name": "stdout",
     "output_type": "stream",
     "text": [
      "[0], train_loss:2.0641, val_loss:1.6835, train_acc:25.2200, val_acc:33.8875\n"
     ]
    },
    {
     "name": "stderr",
     "output_type": "stream",
     "text": [
      "100%|████████████████████████████████████████████████████████████████████████████████| 313/313 [00:07<00:00, 40.23it/s]\n",
      "100%|████████████████████████████████████████████████████████████████████████████████| 500/500 [00:06<00:00, 80.05it/s]\n"
     ]
    },
    {
     "name": "stdout",
     "output_type": "stream",
     "text": [
      "[1], train_loss:1.7361, val_loss:1.5734, train_acc:33.3200, val_acc:37.6250\n"
     ]
    },
    {
     "name": "stderr",
     "output_type": "stream",
     "text": [
      "100%|████████████████████████████████████████████████████████████████████████████████| 313/313 [00:07<00:00, 40.21it/s]\n",
      "100%|████████████████████████████████████████████████████████████████████████████████| 500/500 [00:06<00:00, 82.02it/s]\n"
     ]
    },
    {
     "name": "stdout",
     "output_type": "stream",
     "text": [
      "[2], train_loss:1.5517, val_loss:1.4863, train_acc:41.3600, val_acc:43.6875\n"
     ]
    },
    {
     "name": "stderr",
     "output_type": "stream",
     "text": [
      "100%|████████████████████████████████████████████████████████████████████████████████| 313/313 [00:07<00:00, 39.42it/s]\n",
      "100%|████████████████████████████████████████████████████████████████████████████████| 500/500 [00:06<00:00, 77.72it/s]\n"
     ]
    },
    {
     "name": "stdout",
     "output_type": "stream",
     "text": [
      "[3], train_loss:1.4188, val_loss:1.3164, train_acc:46.5600, val_acc:49.2750\n"
     ]
    },
    {
     "name": "stderr",
     "output_type": "stream",
     "text": [
      "100%|████████████████████████████████████████████████████████████████████████████████| 313/313 [00:07<00:00, 40.62it/s]\n",
      "100%|████████████████████████████████████████████████████████████████████████████████| 500/500 [00:06<00:00, 78.87it/s]\n"
     ]
    },
    {
     "name": "stdout",
     "output_type": "stream",
     "text": [
      "[4], train_loss:1.2964, val_loss:1.4755, train_acc:51.4200, val_acc:45.4875\n"
     ]
    },
    {
     "name": "stderr",
     "output_type": "stream",
     "text": [
      "100%|████████████████████████████████████████████████████████████████████████████████| 313/313 [00:07<00:00, 39.53it/s]\n",
      "100%|████████████████████████████████████████████████████████████████████████████████| 500/500 [00:06<00:00, 76.20it/s]\n"
     ]
    },
    {
     "name": "stdout",
     "output_type": "stream",
     "text": [
      "[5], train_loss:1.1808, val_loss:1.3068, train_acc:56.2600, val_acc:53.4250\n"
     ]
    },
    {
     "name": "stderr",
     "output_type": "stream",
     "text": [
      "100%|████████████████████████████████████████████████████████████████████████████████| 313/313 [00:08<00:00, 39.10it/s]\n",
      "100%|████████████████████████████████████████████████████████████████████████████████| 500/500 [00:06<00:00, 75.91it/s]\n"
     ]
    },
    {
     "name": "stdout",
     "output_type": "stream",
     "text": [
      "[6], train_loss:1.0834, val_loss:1.1930, train_acc:60.6000, val_acc:57.0625\n"
     ]
    },
    {
     "name": "stderr",
     "output_type": "stream",
     "text": [
      "100%|████████████████████████████████████████████████████████████████████████████████| 313/313 [00:07<00:00, 39.49it/s]\n",
      "100%|████████████████████████████████████████████████████████████████████████████████| 500/500 [00:06<00:00, 81.18it/s]\n"
     ]
    },
    {
     "name": "stdout",
     "output_type": "stream",
     "text": [
      "[7], train_loss:0.9721, val_loss:1.3802, train_acc:63.5800, val_acc:54.5375\n"
     ]
    },
    {
     "name": "stderr",
     "output_type": "stream",
     "text": [
      "100%|████████████████████████████████████████████████████████████████████████████████| 313/313 [00:07<00:00, 40.41it/s]\n",
      "100%|████████████████████████████████████████████████████████████████████████████████| 500/500 [00:06<00:00, 81.08it/s]\n"
     ]
    },
    {
     "name": "stdout",
     "output_type": "stream",
     "text": [
      "[8], train_loss:0.9313, val_loss:1.4103, train_acc:66.1200, val_acc:52.8500\n"
     ]
    },
    {
     "name": "stderr",
     "output_type": "stream",
     "text": [
      "100%|████████████████████████████████████████████████████████████████████████████████| 313/313 [00:07<00:00, 40.47it/s]\n",
      "100%|████████████████████████████████████████████████████████████████████████████████| 500/500 [00:06<00:00, 80.30it/s]\n"
     ]
    },
    {
     "name": "stdout",
     "output_type": "stream",
     "text": [
      "[9], train_loss:0.8005, val_loss:1.2225, train_acc:71.8000, val_acc:58.6250\n"
     ]
    },
    {
     "name": "stderr",
     "output_type": "stream",
     "text": [
      "100%|████████████████████████████████████████████████████████████████████████████████| 313/313 [00:07<00:00, 40.40it/s]\n",
      "100%|████████████████████████████████████████████████████████████████████████████████| 500/500 [00:06<00:00, 81.42it/s]\n"
     ]
    },
    {
     "name": "stdout",
     "output_type": "stream",
     "text": [
      "[10], train_loss:0.5063, val_loss:0.8545, train_acc:82.5800, val_acc:69.9250\n"
     ]
    },
    {
     "name": "stderr",
     "output_type": "stream",
     "text": [
      "100%|████████████████████████████████████████████████████████████████████████████████| 313/313 [00:07<00:00, 40.24it/s]\n",
      "100%|████████████████████████████████████████████████████████████████████████████████| 500/500 [00:06<00:00, 79.92it/s]\n"
     ]
    },
    {
     "name": "stdout",
     "output_type": "stream",
     "text": [
      "[11], train_loss:0.4225, val_loss:0.8759, train_acc:85.6000, val_acc:69.9625\n"
     ]
    },
    {
     "name": "stderr",
     "output_type": "stream",
     "text": [
      "100%|████████████████████████████████████████████████████████████████████████████████| 313/313 [00:08<00:00, 39.09it/s]\n",
      "100%|████████████████████████████████████████████████████████████████████████████████| 500/500 [00:06<00:00, 80.36it/s]\n"
     ]
    },
    {
     "name": "stdout",
     "output_type": "stream",
     "text": [
      "[12], train_loss:0.3617, val_loss:0.8738, train_acc:87.7200, val_acc:70.5625\n"
     ]
    },
    {
     "name": "stderr",
     "output_type": "stream",
     "text": [
      "100%|████████████████████████████████████████████████████████████████████████████████| 313/313 [00:07<00:00, 40.35it/s]\n",
      "100%|████████████████████████████████████████████████████████████████████████████████| 500/500 [00:06<00:00, 81.34it/s]\n"
     ]
    },
    {
     "name": "stdout",
     "output_type": "stream",
     "text": [
      "[13], train_loss:0.3158, val_loss:0.9129, train_acc:89.6600, val_acc:70.2000\n"
     ]
    },
    {
     "name": "stderr",
     "output_type": "stream",
     "text": [
      "100%|████████████████████████████████████████████████████████████████████████████████| 313/313 [00:07<00:00, 39.64it/s]\n",
      "100%|████████████████████████████████████████████████████████████████████████████████| 500/500 [00:06<00:00, 77.69it/s]\n"
     ]
    },
    {
     "name": "stdout",
     "output_type": "stream",
     "text": [
      "[14], train_loss:0.2806, val_loss:0.9051, train_acc:90.9200, val_acc:70.4125\n"
     ]
    },
    {
     "name": "stderr",
     "output_type": "stream",
     "text": [
      "100%|████████████████████████████████████████████████████████████████████████████████| 313/313 [00:07<00:00, 39.69it/s]\n",
      "100%|████████████████████████████████████████████████████████████████████████████████| 500/500 [00:06<00:00, 76.95it/s]\n"
     ]
    },
    {
     "name": "stdout",
     "output_type": "stream",
     "text": [
      "[15], train_loss:0.2567, val_loss:0.9481, train_acc:92.0800, val_acc:69.7500\n"
     ]
    },
    {
     "name": "stderr",
     "output_type": "stream",
     "text": [
      "100%|████████████████████████████████████████████████████████████████████████████████| 313/313 [00:07<00:00, 39.37it/s]\n",
      "100%|████████████████████████████████████████████████████████████████████████████████| 500/500 [00:06<00:00, 78.17it/s]\n"
     ]
    },
    {
     "name": "stdout",
     "output_type": "stream",
     "text": [
      "[16], train_loss:0.2216, val_loss:0.9451, train_acc:93.2400, val_acc:70.3375\n"
     ]
    },
    {
     "name": "stderr",
     "output_type": "stream",
     "text": [
      "100%|████████████████████████████████████████████████████████████████████████████████| 313/313 [00:07<00:00, 40.18it/s]\n",
      "100%|████████████████████████████████████████████████████████████████████████████████| 500/500 [00:06<00:00, 79.12it/s]\n"
     ]
    },
    {
     "name": "stdout",
     "output_type": "stream",
     "text": [
      "[17], train_loss:0.1711, val_loss:0.9639, train_acc:95.2600, val_acc:70.2000\n"
     ]
    },
    {
     "name": "stderr",
     "output_type": "stream",
     "text": [
      "100%|████████████████████████████████████████████████████████████████████████████████| 313/313 [00:07<00:00, 39.99it/s]\n",
      "100%|████████████████████████████████████████████████████████████████████████████████| 500/500 [00:06<00:00, 79.09it/s]\n"
     ]
    },
    {
     "name": "stdout",
     "output_type": "stream",
     "text": [
      "[18], train_loss:0.1558, val_loss:0.9776, train_acc:95.6800, val_acc:70.2250\n"
     ]
    },
    {
     "name": "stderr",
     "output_type": "stream",
     "text": [
      "100%|████████████████████████████████████████████████████████████████████████████████| 313/313 [00:07<00:00, 40.05it/s]\n",
      "100%|████████████████████████████████████████████████████████████████████████████████| 500/500 [00:06<00:00, 78.76it/s]\n"
     ]
    },
    {
     "name": "stdout",
     "output_type": "stream",
     "text": [
      "[19], train_loss:0.1315, val_loss:1.0157, train_acc:96.7600, val_acc:69.1000\n"
     ]
    },
    {
     "name": "stderr",
     "output_type": "stream",
     "text": [
      "100%|████████████████████████████████████████████████████████████████████████████████| 313/313 [00:07<00:00, 39.87it/s]\n",
      "100%|████████████████████████████████████████████████████████████████████████████████| 500/500 [00:06<00:00, 78.22it/s]\n"
     ]
    },
    {
     "name": "stdout",
     "output_type": "stream",
     "text": [
      "[20], train_loss:0.0961, val_loss:0.9901, train_acc:97.8800, val_acc:70.1500\n"
     ]
    },
    {
     "name": "stderr",
     "output_type": "stream",
     "text": [
      "100%|████████████████████████████████████████████████████████████████████████████████| 313/313 [00:07<00:00, 39.78it/s]\n",
      "100%|████████████████████████████████████████████████████████████████████████████████| 500/500 [00:06<00:00, 77.09it/s]\n"
     ]
    },
    {
     "name": "stdout",
     "output_type": "stream",
     "text": [
      "[21], train_loss:0.0915, val_loss:0.9889, train_acc:98.0000, val_acc:70.1750\n"
     ]
    },
    {
     "name": "stderr",
     "output_type": "stream",
     "text": [
      "100%|████████████████████████████████████████████████████████████████████████████████| 313/313 [00:07<00:00, 39.42it/s]\n",
      "100%|████████████████████████████████████████████████████████████████████████████████| 500/500 [00:06<00:00, 79.74it/s]\n"
     ]
    },
    {
     "name": "stdout",
     "output_type": "stream",
     "text": [
      "[22], train_loss:0.0934, val_loss:1.0013, train_acc:98.2600, val_acc:70.0125\n"
     ]
    },
    {
     "name": "stderr",
     "output_type": "stream",
     "text": [
      "100%|████████████████████████████████████████████████████████████████████████████████| 313/313 [00:07<00:00, 39.97it/s]\n",
      "100%|████████████████████████████████████████████████████████████████████████████████| 500/500 [00:06<00:00, 79.73it/s]\n"
     ]
    },
    {
     "name": "stdout",
     "output_type": "stream",
     "text": [
      "[23], train_loss:0.0880, val_loss:0.9941, train_acc:98.4200, val_acc:70.2000\n"
     ]
    },
    {
     "name": "stderr",
     "output_type": "stream",
     "text": [
      "100%|████████████████████████████████████████████████████████████████████████████████| 313/313 [00:07<00:00, 39.78it/s]\n",
      "100%|████████████████████████████████████████████████████████████████████████████████| 500/500 [00:06<00:00, 77.71it/s]\n"
     ]
    },
    {
     "name": "stdout",
     "output_type": "stream",
     "text": [
      "[24], train_loss:0.0846, val_loss:1.0018, train_acc:98.4400, val_acc:70.0250\n"
     ]
    },
    {
     "name": "stderr",
     "output_type": "stream",
     "text": [
      "100%|████████████████████████████████████████████████████████████████████████████████| 313/313 [00:07<00:00, 40.08it/s]\n",
      "100%|████████████████████████████████████████████████████████████████████████████████| 500/500 [00:06<00:00, 78.04it/s]\n"
     ]
    },
    {
     "name": "stdout",
     "output_type": "stream",
     "text": [
      "[25], train_loss:0.0802, val_loss:0.9926, train_acc:98.6400, val_acc:70.0250\n"
     ]
    },
    {
     "name": "stderr",
     "output_type": "stream",
     "text": [
      "100%|████████████████████████████████████████████████████████████████████████████████| 313/313 [00:07<00:00, 39.79it/s]\n",
      "100%|████████████████████████████████████████████████████████████████████████████████| 500/500 [00:06<00:00, 78.18it/s]\n"
     ]
    },
    {
     "name": "stdout",
     "output_type": "stream",
     "text": [
      "[26], train_loss:0.0806, val_loss:0.9929, train_acc:98.4800, val_acc:70.2500\n"
     ]
    },
    {
     "name": "stderr",
     "output_type": "stream",
     "text": [
      "100%|████████████████████████████████████████████████████████████████████████████████| 313/313 [00:07<00:00, 39.78it/s]\n",
      "100%|████████████████████████████████████████████████████████████████████████████████| 500/500 [00:06<00:00, 77.52it/s]\n"
     ]
    },
    {
     "name": "stdout",
     "output_type": "stream",
     "text": [
      "[27], train_loss:0.0771, val_loss:0.9975, train_acc:98.6200, val_acc:70.5375\n"
     ]
    },
    {
     "name": "stderr",
     "output_type": "stream",
     "text": [
      "100%|████████████████████████████████████████████████████████████████████████████████| 313/313 [00:08<00:00, 38.88it/s]\n",
      "100%|████████████████████████████████████████████████████████████████████████████████| 500/500 [00:06<00:00, 73.74it/s]\n"
     ]
    },
    {
     "name": "stdout",
     "output_type": "stream",
     "text": [
      "[28], train_loss:0.0743, val_loss:1.0038, train_acc:98.8600, val_acc:70.1250\n"
     ]
    },
    {
     "name": "stderr",
     "output_type": "stream",
     "text": [
      "100%|████████████████████████████████████████████████████████████████████████████████| 313/313 [00:07<00:00, 40.34it/s]\n",
      "100%|████████████████████████████████████████████████████████████████████████████████| 500/500 [00:06<00:00, 78.49it/s]\n"
     ]
    },
    {
     "name": "stdout",
     "output_type": "stream",
     "text": [
      "[29], train_loss:0.0793, val_loss:1.0036, train_acc:98.3800, val_acc:70.4875\n"
     ]
    }
   ],
   "source": [
    "\n",
    "for epoch in range(epochs):  # loop over the dataset multiple times\n",
    "    best_acc = 0\n",
    "\n",
    "    train_loss, train_acc = train(trainloader,model, optimizer, criterion)\n",
    "    val_loss, val_acc = validation(testloader,model, optimizer, criterion)\n",
    "    scheduler.step()\n",
    "    is_best = val_acc > best_acc\n",
    "    best_acc1 = max(val_acc, best_acc)\n",
    "    \n",
    "    \n",
    "    save_checkpoint({\n",
    "            'epoch': epoch + 1,\n",
    "\n",
    "            'state_dict': model.state_dict(),\n",
    "            'best_acc1': best_acc,\n",
    "            'optimizer' : optimizer.state_dict(),\n",
    "            'scheduler' : scheduler.state_dict()\n",
    "        }, is_best)\n",
    "        \n",
    "    print(f'[{epoch}], train_loss:{train_loss:.4f}, val_loss:{val_loss:.4f}, train_acc:{train_acc*100:.4f}, val_acc:{val_acc*100:.4f}')\n",
    "       \n",
    "   \n",
    "        \n",
    "       \n"
   ]
  },
  {
   "cell_type": "code",
   "execution_count": null,
   "id": "e10d456f",
   "metadata": {},
   "outputs": [],
   "source": []
  },
  {
   "cell_type": "code",
   "execution_count": null,
   "id": "babd2b3c",
   "metadata": {},
   "outputs": [],
   "source": []
  }
 ],
 "metadata": {
  "kernelspec": {
   "display_name": "Python 3 (ipykernel)",
   "language": "python",
   "name": "python3"
  },
  "language_info": {
   "codemirror_mode": {
    "name": "ipython",
    "version": 3
   },
   "file_extension": ".py",
   "mimetype": "text/x-python",
   "name": "python",
   "nbconvert_exporter": "python",
   "pygments_lexer": "ipython3",
   "version": "3.11.5"
  }
 },
 "nbformat": 4,
 "nbformat_minor": 5
}
